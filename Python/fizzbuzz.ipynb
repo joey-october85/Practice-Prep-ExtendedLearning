{
 "cells": [
  {
   "cell_type": "code",
   "execution_count": null,
   "metadata": {},
   "outputs": [],
   "source": [
    "#Solution 1\n",
    "for i in range(1, 101):\n",
    "    if i%3==0 and i%5==0:\n",
    "        print(\"FizzBuzz\")\n",
    "    elif i%3==0:\n",
    "        print(\"Fizz\")\n",
    "    elif i%5==0:\n",
    "        print(\"Buzz\")\n",
    "    else:\n",
    "        print(i)\n"
   ]
  },
  {
   "cell_type": "code",
   "execution_count": null,
   "metadata": {},
   "outputs": [],
   "source": [
    "#Solution 2\n",
    "for i in range(1,101):\n",
    "    output = ''\n",
    "    if i%3==0:\n",
    "        output = 'Fizz'\n",
    "    if i%5==0:\n",
    "        output += 'Buzz'\n",
    "    \n",
    "    print(output or i)"
   ]
  },
  {
   "cell_type": "code",
   "execution_count": null,
   "metadata": {},
   "outputs": [],
   "source": [
    "#Solution 2.1\n",
    "for i in range(1,101):\n",
    "    output =\"Fizz\" if i%3==0 else \"\"\n",
    "    output +=\"Buzz\" if i%5==0 else \"\"\n",
    "\n",
    "    print(i) if output == \"\" else print(output)"
   ]
  },
  {
   "cell_type": "code",
   "execution_count": null,
   "metadata": {},
   "outputs": [],
   "source": [
    "#Solution 3\n",
    "for i in range (1,101):\n",
    "    print(\"Fizz\"*(i%3<1)+(i%5<1)*\"Buzz\" or i)"
   ]
  }
 ],
 "metadata": {
  "kernelspec": {
   "display_name": "base",
   "language": "python",
   "name": "python3"
  },
  "language_info": {
   "codemirror_mode": {
    "name": "ipython",
    "version": 3
   },
   "file_extension": ".py",
   "mimetype": "text/x-python",
   "name": "python",
   "nbconvert_exporter": "python",
   "pygments_lexer": "ipython3",
   "version": "3.10.9"
  },
  "orig_nbformat": 4
 },
 "nbformat": 4,
 "nbformat_minor": 2
}
