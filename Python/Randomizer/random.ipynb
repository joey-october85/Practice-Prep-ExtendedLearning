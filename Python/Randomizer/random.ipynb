{
 "cells": [
  {
   "cell_type": "code",
   "execution_count": 1,
   "metadata": {},
   "outputs": [],
   "source": [
    "from restaurants import restaurants\n",
    "from games import games"
   ]
  },
  {
   "cell_type": "code",
   "execution_count": 2,
   "metadata": {},
   "outputs": [],
   "source": [
    "def rando(x):\n",
    "    import random\n",
    "    random_num = random.choice(x)\n",
    "    \n",
    "    # printing random number\n",
    "    print(str(random_num))"
   ]
  },
  {
   "cell_type": "code",
   "execution_count": 3,
   "metadata": {},
   "outputs": [
    {
     "name": "stdout",
     "output_type": "stream",
     "text": [
      "We're eating..\n",
      "Nik's Not Normal\n",
      "\n",
      "..and we're playing...\n",
      "Payday 2\n"
     ]
    }
   ],
   "source": [
    "print(\"We're eating..\")\n",
    "rando(restaurants)\n",
    "print()\n",
    "print(\"..and we're playing...\")\n",
    "rando(games)"
   ]
  }
 ],
 "metadata": {
  "kernelspec": {
   "display_name": "base",
   "language": "python",
   "name": "python3"
  },
  "language_info": {
   "codemirror_mode": {
    "name": "ipython",
    "version": 3
   },
   "file_extension": ".py",
   "mimetype": "text/x-python",
   "name": "python",
   "nbconvert_exporter": "python",
   "pygments_lexer": "ipython3",
   "version": "3.10.9"
  },
  "orig_nbformat": 4
 },
 "nbformat": 4,
 "nbformat_minor": 2
}
