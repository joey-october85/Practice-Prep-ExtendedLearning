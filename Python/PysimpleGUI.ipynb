{
 "cells": [
  {
   "cell_type": "markdown",
   "metadata": {},
   "source": [
    "# Pysimple GUI"
   ]
  },
  {
   "cell_type": "markdown",
   "metadata": {},
   "source": []
  },
  {
   "cell_type": "markdown",
   "metadata": {},
   "source": [
    "## Definition\n",
    "### patient records application\n",
    " - Display first and last names, date of birth, height, weight and medication status\n",
    " - Add a new patient with the above fields\n",
    "\n",
    " ### Functional Requirements\n",
    "  - Display patient data in a table\n",
    "  - Open & close patient intake form\n",
    "  - Capture and validate inputs for names, DOB, height, weight, medication status\n",
    "  - Add new patient data to the list\n"
   ]
  },
  {
   "cell_type": "markdown",
   "metadata": {},
   "source": [
    "## User Stories\n",
    "\n",
    " - As a staff member, I want a table of all patients so that I can view all their info in one place\n",
    " - As a staff member, I want to be able to enter patient info so that I can save a new patient to my records\n",
    " - As a staff member, I want an add patient button so that I can display the patient intake form\n",
    " - As a staff member, I want input validation so that I can ensure patient information is captured accurately"
   ]
  },
  {
   "cell_type": "code",
   "execution_count": null,
   "metadata": {},
   "outputs": [],
   "source": []
  },
  {
   "cell_type": "code",
   "execution_count": 1,
   "metadata": {},
   "outputs": [],
   "source": [
    "\n",
    "\n",
    "## Design\n",
    "## Implementation\n",
    "## Evaluation"
   ]
  }
 ],
 "metadata": {
  "kernelspec": {
   "display_name": "Python 3",
   "language": "python",
   "name": "python3"
  },
  "language_info": {
   "codemirror_mode": {
    "name": "ipython",
    "version": 3
   },
   "file_extension": ".py",
   "mimetype": "text/x-python",
   "name": "python",
   "nbconvert_exporter": "python",
   "pygments_lexer": "ipython3",
   "version": "3.11.3"
  }
 },
 "nbformat": 4,
 "nbformat_minor": 2
}
