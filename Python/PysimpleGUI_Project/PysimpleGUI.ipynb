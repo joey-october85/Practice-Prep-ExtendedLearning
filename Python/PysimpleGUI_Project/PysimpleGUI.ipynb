{
 "cells": [
  {
   "cell_type": "markdown",
   "metadata": {},
   "source": [
    "# Pysimple GUI"
   ]
  },
  {
   "cell_type": "markdown",
   "metadata": {},
   "source": [
    "## Definition\n",
    "### patient records application\n",
    " - Display first and last names, date of birth, height, weight and medication status\n",
    " - Add a new patient with the above fields\n",
    "\n",
    " ### Functional Requirements\n",
    "  - Display patient data in a table\n",
    "  - Open & close patient intake form\n",
    "  - Capture and validate inputs for names, DOB, height, weight, medication status\n",
    "  - Add new patient data to the list\n"
   ]
  },
  {
   "cell_type": "markdown",
   "metadata": {},
   "source": [
    "## User Stories\n",
    "\n",
    " - As a staff member, I want a table of all patients so that I can view all their info in one place\n",
    " - As a staff member, I want to be able to enter patient info so that I can save a new patient to my records\n",
    " - As a staff member, I want an add patient button so that I can display the patient intake formSimpleG\n",
    " - As a staff member, I want input validation so that I can ensure patient information is captured accurately"
   ]
  },
  {
   "cell_type": "markdown",
   "metadata": {},
   "source": [
    "# Design\n",
    "\n",
    "## Requirements\n",
    "### GUI Based program that will:\n",
    " - Display all patients' data in a table\n",
    " - Present intake form to capture new patient info\n",
    "\n",
    "\n",
    "### Patient's Info Table\n",
    " - Title\n",
    " - Button to add a new patient\n",
    " - Table for patients' data\n",
    "\n",
    "### Patient Intake Form\n",
    " - Title\n",
    " - Text inputs for first name, last name, height and weight\n",
    " - Date picker for date of birth\n",
    " - Checkbox for medication status\n",
    " - Buttons to save or cancel\n"
   ]
  },
  {
   "cell_type": "markdown",
   "metadata": {},
   "source": [
    "## Implementation"
   ]
  },
  {
   "cell_type": "code",
   "execution_count": 7,
   "metadata": {},
   "outputs": [],
   "source": [
    "from patient import Patient\n",
    "from datetime import datetime"
   ]
  },
  {
   "cell_type": "code",
   "execution_count": 8,
   "metadata": {},
   "outputs": [],
   "source": [
    "patients = [\n",
    "    Patient(\"Namish\", \"Narang\", datetime(1990,1,6), 185, 90.3, True),\n",
    "    Patient(\"Marisela\", \"Medina\", datetime(1988,7,14), 144, 54, True),\n",
    "    Patient(\"Joey\", \"Rodriguez\", datetime(1990,1,6), 166, 65.8, False),\n",
    "]"
   ]
  },
  {
   "cell_type": "code",
   "execution_count": 9,
   "metadata": {},
   "outputs": [
    {
     "ename": "AttributeError",
     "evalue": "'Patient' object has no attribute 'convert_values_to_strings'",
     "output_type": "error",
     "traceback": [
      "\u001b[1;31m---------------------------------------------------------------------------\u001b[0m",
      "\u001b[1;31mAttributeError\u001b[0m                            Traceback (most recent call last)",
      "\u001b[1;32mc:\\Users\\abelr\\Desktop\\Independent_Learning_Projects\\Practice-Prep-ExtendedLearning\\Python\\PysimpleGUI_Project\\PysimpleGUI.ipynb Cell 8\u001b[0m line \u001b[0;36m1\n\u001b[1;32m----> <a href='vscode-notebook-cell:/c%3A/Users/abelr/Desktop/Independent_Learning_Projects/Practice-Prep-ExtendedLearning/Python/PysimpleGUI_Project/PysimpleGUI.ipynb#X12sZmlsZQ%3D%3D?line=0'>1</a>\u001b[0m \u001b[39mprint\u001b[39m(patients[\u001b[39m0\u001b[39;49m]\u001b[39m.\u001b[39;49mconvert_values_to_strings())\n",
      "\u001b[1;31mAttributeError\u001b[0m: 'Patient' object has no attribute 'convert_values_to_strings'"
     ]
    }
   ],
   "source": [
    "print(patients[0].convert_values_to_strings())"
   ]
  },
  {
   "cell_type": "code",
   "execution_count": 1,
   "metadata": {},
   "outputs": [],
   "source": [
    "\n",
    "\n",
    "\n",
    "\n",
    "## Evaluation"
   ]
  }
 ],
 "metadata": {
  "kernelspec": {
   "display_name": "Python 3",
   "language": "python",
   "name": "python3"
  },
  "language_info": {
   "codemirror_mode": {
    "name": "ipython",
    "version": 3
   },
   "file_extension": ".py",
   "mimetype": "text/x-python",
   "name": "python",
   "nbconvert_exporter": "python",
   "pygments_lexer": "ipython3",
   "version": "3.11.3"
  }
 },
 "nbformat": 4,
 "nbformat_minor": 2
}
