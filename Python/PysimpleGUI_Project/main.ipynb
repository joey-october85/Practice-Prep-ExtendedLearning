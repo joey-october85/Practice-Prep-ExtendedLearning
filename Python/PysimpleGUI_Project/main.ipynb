{
 "cells": [
  {
   "cell_type": "markdown",
   "metadata": {},
   "source": [
    "# Pysimple GUI"
   ]
  },
  {
   "cell_type": "markdown",
   "metadata": {},
   "source": [
    "## Definition\n",
    "### patient records application\n",
    " - Display first and last names, date of birth, height, weight and medication status\n",
    " - Add a new patient with the above fields\n",
    "\n",
    " ### Functional Requirements\n",
    "  - Display patient data in a table\n",
    "  - Open & close patient intake form\n",
    "  - Capture and validate inputs for names, DOB, height, weight, medication status\n",
    "  - Add new patient data to the list\n"
   ]
  },
  {
   "cell_type": "markdown",
   "metadata": {},
   "source": [
    "## User Stories\n",
    "\n",
    " - As a staff member, I want a table of all patients so that I can view all their info in one place\n",
    " - As a staff member, I want to be able to enter patient info so that I can save a new patient to my records\n",
    " - As a staff member, I want an add patient button so that I can display the patient intake formSimpleG\n",
    " - As a staff member, I want input validation so that I can ensure patient information is captured accurately"
   ]
  },
  {
   "cell_type": "markdown",
   "metadata": {},
   "source": [
    "# Design\n",
    "\n",
    "## Requirements\n",
    "### GUI Based program that will:\n",
    " - Display all patients' data in a table\n",
    " - Present intake form to capture new patient info\n",
    "\n",
    "\n",
    "### Patient's Info Table\n",
    " - Title\n",
    " - Button to add a new patient\n",
    " - Table for patients' data\n",
    "\n",
    "### Patient Intake Form\n",
    " - Title\n",
    " - Text inputs for first name, last name, height and weight\n",
    " - Date picker for date of birth\n",
    " - Checkbox for medication status\n",
    " - Buttons to save or cancel\n"
   ]
  },
  {
   "cell_type": "markdown",
   "metadata": {},
   "source": [
    "## Implementation"
   ]
  },
  {
   "cell_type": "code",
   "execution_count": 5,
   "metadata": {},
   "outputs": [],
   "source": [
    "import PySimpleGUI as sg\n",
    "import dataFunctions"
   ]
  },
  {
   "cell_type": "code",
   "execution_count": 7,
   "metadata": {},
   "outputs": [],
   "source": [
    "table_headings = [\"First_Name\", \"Last_Name\", \"Date_of_Birth\", \"Height\", \"Weight\", \"Is_Taking_Medication\"]\n",
    "\n",
    "table_data = dataFunctions.convert_patients_to_table_rows()"
   ]
  },
  {
   "cell_type": "code",
   "execution_count": 12,
   "metadata": {},
   "outputs": [],
   "source": [
    "## https://www.pysimplegui.org/en/latest/\n",
    "\n",
    "# layout = [\n",
    "#     [sg.Text(\"X\"),sg.Text(\"O\"),sg.Text(\"X\"),],\n",
    "#     [sg.Text(\"O\"),sg.Text(\"X\"),sg.Text(\"O\"),],\n",
    "#     [sg.Text(\"X\"),sg.Text(\"X\"),sg.Text(\"O\"),]\n",
    "# ]\n",
    "\n",
    "patients_window_layout = [\n",
    "    [sg.Table(headings = table_headings, values=table_data)]\n",
    "]\n",
    "\n",
    "patients_window = sg.Window('Patients List', patients_window_layout)\n",
    "\n",
    "while True:\n",
    "    event, values = patients_window.read()\n",
    "    if event == sg.WIN_CLOSED:\n",
    "        break\n",
    "patients_window.close()\n",
    "\n"
   ]
  },
  {
   "cell_type": "markdown",
   "metadata": {},
   "source": [
    "## Evaluation"
   ]
  },
  {
   "cell_type": "code",
   "execution_count": null,
   "metadata": {},
   "outputs": [],
   "source": [
    "## dummy text"
   ]
  }
 ],
 "metadata": {
  "kernelspec": {
   "display_name": "Python 3",
   "language": "python",
   "name": "python3"
  },
  "language_info": {
   "codemirror_mode": {
    "name": "ipython",
    "version": 3
   },
   "file_extension": ".py",
   "mimetype": "text/x-python",
   "name": "python",
   "nbconvert_exporter": "python",
   "pygments_lexer": "ipython3",
   "version": "3.10.9"
  }
 },
 "nbformat": 4,
 "nbformat_minor": 2
}
