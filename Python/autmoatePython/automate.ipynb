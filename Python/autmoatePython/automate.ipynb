{
 "cells": [
  {
   "cell_type": "markdown",
   "metadata": {},
   "source": [
    "# AUTOMATE THE BORING STUFF WITH PYTHON 2ND EDITION\n",
    "## Practical Programming for Total Beginners\n",
    "### by Al Sweigart San\n",
    "#### *************************************************"
   ]
  },
  {
   "cell_type": "markdown",
   "metadata": {},
   "source": [
    "### 17 KEEPING TIME, SCHEDULING TASKS, AND LAUNCHING PROGRAMS"
   ]
  },
  {
   "cell_type": "markdown",
   "metadata": {},
   "source": [
    "#### The time Module"
   ]
  },
  {
   "cell_type": "code",
   "execution_count": 2,
   "metadata": {},
   "outputs": [
    {
     "data": {
      "text/plain": [
       "1696351410.7951293"
      ]
     },
     "execution_count": 2,
     "metadata": {},
     "output_type": "execute_result"
    }
   ],
   "source": [
    "import time\n",
    "time.time()"
   ]
  },
  {
   "cell_type": "code",
   "execution_count": 3,
   "metadata": {},
   "outputs": [],
   "source": [
    "# Avoid error: ValueError: Exceeds the limit (4300) for integer string conversion\n",
    "# https://stackoverflow.com/questions/73693104/valueerror-exceeds-the-limit-4300-for-integer-string-conversion\n",
    "import sys\n",
    "sys.set_int_max_str_digits(0)"
   ]
  },
  {
   "cell_type": "code",
   "execution_count": 4,
   "metadata": {},
   "outputs": [
    {
     "name": "stdout",
     "output_type": "stream",
     "text": [
      "The result is 213232 digits long.\n",
      "Took 0.3935070037841797 seconds to calculate.\n"
     ]
    }
   ],
   "source": [
    "# Define a function calcProd() to loop through the integers from 1 to 99,999 and return their product\n",
    "def calcProd():\n",
    "    #Calculate the product of the first 100,000 numbers.\n",
    "    product = 1\n",
    "    for i in range(1,50000):\n",
    "        product = product * i\n",
    "    return product\n",
    "\n",
    "# Call time.time() and store it in startTime. Right after calling calcProd(), we call time.time() again and store it in endTime \n",
    "startTime = time.time()\n",
    "prod = calcProd()\n",
    "endTime = time.time()\n",
    "\n",
    "# End by printing the length of the product returned by calcProd()and how long it took to run calcProd()\n",
    "print('The result is %s digits long.' % (len(str(prod))))\n",
    "print('Took %s seconds to calculate.' % (endTime - startTime))"
   ]
  },
  {
   "cell_type": "code",
   "execution_count": 5,
   "metadata": {},
   "outputs": [
    {
     "data": {
      "text/plain": [
       "'Tue Oct  3 11:43:38 2023'"
      ]
     },
     "execution_count": 5,
     "metadata": {},
     "output_type": "execute_result"
    }
   ],
   "source": [
    "# Optionally pass the number of seconds since the Unix epoch, as returned by time.time(), to get a string value of that time\n",
    "thisMoment = time.time()\n",
    "time.ctime(thisMoment)"
   ]
  },
  {
   "cell_type": "markdown",
   "metadata": {},
   "source": [
    "#### Rounding Numbers"
   ]
  },
  {
   "cell_type": "code",
   "execution_count": 6,
   "metadata": {},
   "outputs": [
    {
     "name": "stdout",
     "output_type": "stream",
     "text": [
      "1696351419.6842613\n",
      "\n",
      "1696351419.6843\n",
      "\n",
      "1696351419.68\n",
      "\n",
      "1696351420\n"
     ]
    }
   ],
   "source": [
    "import time\n",
    "\n",
    "# store current time in variable\n",
    "now = time.time()\n",
    "\n",
    "# print variable. Displays float with many digits after the decimal\n",
    "print(now)\n",
    "print()\n",
    "\n",
    "# Round the variable by passing the value and the optional argument specifying the number of digits it should be rounded to\n",
    "print(round(now, 4))\n",
    "print()\n",
    "print(round(now, 2))\n",
    "print()\n",
    "\n",
    "# Ommitting the second/optional argument, the number is rounded to the nearest whole number\n",
    "print(round(now))\n"
   ]
  }
 ],
 "metadata": {
  "kernelspec": {
   "display_name": "base",
   "language": "python",
   "name": "python3"
  },
  "language_info": {
   "codemirror_mode": {
    "name": "ipython",
    "version": 3
   },
   "file_extension": ".py",
   "mimetype": "text/x-python",
   "name": "python",
   "nbconvert_exporter": "python",
   "pygments_lexer": "ipython3",
   "version": "3.10.9"
  },
  "orig_nbformat": 4
 },
 "nbformat": 4,
 "nbformat_minor": 2
}
