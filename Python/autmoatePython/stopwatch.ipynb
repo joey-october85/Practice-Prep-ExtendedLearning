{
 "cells": [
  {
   "cell_type": "code",
   "execution_count": null,
   "metadata": {},
   "outputs": [],
   "source": [
    "# Project: Super Stopwatch\n",
    "\n",
    "# Say you want to track how much time you spend on boring tasks you haven’t\n",
    "# automated yet. You don’t have a physical stopwatch, and it’s surprisingly difficult\n",
    "# to find a free stopwatch app for your laptop or smartphone that isn’t\n",
    "# covered in ads and doesn’t send a copy of your browser history to marketers.\n",
    "# (It says it can do this in the license agreement you agreed to. You did read\n",
    "# the license agreement, didn’t you?) You can write a simple stopwatch program\n",
    "# yourself in Python.\n",
    "# At a high level, here’s what your program will do:\n",
    "# TODO: 1. Track the amount of time elapsed between presses of the enter key, # with each key press starting a new “lap” on the timer.\n",
    "# TODO: 2. Print the lap number, total time, and lap time. Keeping Time, Scheduling Tasks, and Launching Programs 393 \n",
    "\n",
    "# This means your code will need to do the following:\n",
    "# TODO: 1. Find the current time by calling time.time() and store it as a timestamp at the start of the program, as well as at the start of each lap.\n",
    "# TODO: 2. Keep a lap counter and increment it every time the user presses enter.\n",
    "# TODO: 3. Calculate the elapsed time by subtracting timestamps.\n",
    "# TODO: 4. Handle the KeyboardInterrupt exception so the user can press ctrl-C to quit.\n",
    "\n",
    "\n",
    "\n",
    "# Step 1: Set Up the Program to Track Times\n",
    "\n",
    "import time\n",
    "\n",
    "# Display the programs instructions\n",
    "print('Press ENTER to begin. Afterwards, press ENTER to \"click\" the stopwatch. \\n'\n",
    "      'Press Ctrl-C to quit.')\n",
    "\n",
    "# Press ENTER to begin\n",
    "input()\n",
    "print('Started')\n",
    "\n",
    "# Get the first lap's start time\n",
    "startTime = time.time()\n",
    "lastTime = startTime\n",
    "lapNum = 1\n",
    "\n",
    "# Start tracking the lap times.\n",
    "try:\n",
    "    while True:\n",
    "        lapTime = round(time.time() - lastTime,2)\n",
    "        totalTime = round(time.time() - startTime,2)\n",
    "        print('Lap #%s: %s (%s)' % (lapNum, totalTime, lapTime), end='')\n",
    "        # print('Lap #%s: %s (%s)' % (lapNum, totalTime, lapTime), end='')\n",
    "        lapTime += 1\n",
    "        # Reset the last lap time\n",
    "        lastTime = time.time() \n",
    "except KeyboardInterrupt:\n",
    "    # Handle the Ctrl-C exception to keep its error message from displaying\n",
    "    print('/nDone.')"
   ]
  },
  {
   "cell_type": "code",
   "execution_count": null,
   "metadata": {},
   "outputs": [],
   "source": []
  }
 ],
 "metadata": {
  "language_info": {
   "name": "python"
  },
  "orig_nbformat": 4
 },
 "nbformat": 4,
 "nbformat_minor": 2
}
